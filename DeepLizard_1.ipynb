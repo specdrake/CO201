{
  "nbformat": 4,
  "nbformat_minor": 0,
  "metadata": {
    "colab": {
      "name": "DeepLizard 1.ipynb",
      "provenance": [],
      "collapsed_sections": [],
      "authorship_tag": "ABX9TyMpEVjO4yFViWbVmXJqY8Do",
      "include_colab_link": true
    },
    "kernelspec": {
      "name": "python3",
      "display_name": "Python 3"
    }
  },
  "cells": [
    {
      "cell_type": "markdown",
      "metadata": {
        "id": "view-in-github",
        "colab_type": "text"
      },
      "source": [
        "<a href=\"https://colab.research.google.com/github/anshuljoshi07/CO201/blob/master/DeepLizard_1.ipynb\" target=\"_parent\"><img src=\"https://colab.research.google.com/assets/colab-badge.svg\" alt=\"Open In Colab\"/></a>"
      ]
    },
    {
      "cell_type": "code",
      "metadata": {
        "id": "Ee2rkmOGKzqp"
      },
      "source": [
        "import numpy as np\n",
        "from random import randint\n",
        "from sklearn.utils import shuffle\n",
        "from sklearn.preprocessing import MinMaxScaler\n"
      ],
      "execution_count": 1,
      "outputs": []
    },
    {
      "cell_type": "code",
      "metadata": {
        "id": "iwFSXsQKLLbm"
      },
      "source": [
        "labels = []\n",
        "samples =[]\n"
      ],
      "execution_count": 21,
      "outputs": []
    },
    {
      "cell_type": "code",
      "metadata": {
        "id": "CmAEIwwiL7UW"
      },
      "source": [
        "for i in range(50):\n",
        " random_younger_age = randint (13,65)\n",
        " random_older_age = randint(65,100)\n",
        " samples.append(random_younger_age)\n",
        " labels.append(1)\n",
        " samples.append(random_older_age)\n",
        " labels.append(0)\n",
        "\n",
        "for i in range(1000):\n",
        " random_younger_age = randint (13,65)\n",
        " random_older_age = randint(65,100)\n",
        " samples.append(random_younger_age)\n",
        " labels.append(0)\n",
        " samples.append(random_older_age)\n",
        " labels.append(1)\n",
        "\n",
        "#samples.pop()\n"
      ],
      "execution_count": 22,
      "outputs": []
    },
    {
      "cell_type": "code",
      "metadata": {
        "id": "mlFcashBVxEq"
      },
      "source": [
        "labels= np.array(labels)\n",
        "samples = np.array(samples)\n",
        "\n"
      ],
      "execution_count": 23,
      "outputs": []
    },
    {
      "cell_type": "code",
      "metadata": {
        "id": "yqrSpj3tVy3K"
      },
      "source": [
        "labels , samples = shuffle(labels , samples)"
      ],
      "execution_count": 24,
      "outputs": []
    },
    {
      "cell_type": "code",
      "metadata": {
        "id": "YIEaTLhkWnxj"
      },
      "source": [
        "scaler = MinMaxScaler(feature_range=(0,1))\n",
        "scaled_samples = scaler.fit_transform(samples.reshape(-1,1))"
      ],
      "execution_count": 25,
      "outputs": []
    },
    {
      "cell_type": "code",
      "metadata": {
        "id": "GqR84moJXZLq"
      },
      "source": [
        "import tensorflow as tf\n",
        "from tensorflow import keras\n",
        "from tensorflow.keras.models import Sequential\n",
        "from tensorflow.keras.layers import Activation, Dense\n",
        "from tensorflow.keras.optimizers import Adam\n",
        "from tensorflow.keras.metrics import categorical_crossentropy"
      ],
      "execution_count": 26,
      "outputs": []
    },
    {
      "cell_type": "code",
      "metadata": {
        "id": "UanVMIijY38V"
      },
      "source": [
        "model = Sequential ([Dense(units=16 , input_shape = (1,) ,activation = 'relu' ),\n",
        "                     Dense (units =32 , activation= 'relu') ,\n",
        "                     Dense (units = 2 , activation= 'softmax')\n",
        "                     ])"
      ],
      "execution_count": 31,
      "outputs": []
    },
    {
      "cell_type": "code",
      "metadata": {
        "id": "FRw4Cf2obCbU",
        "outputId": "37b07d44-fe34-4c40-bde7-30e71db17aed",
        "colab": {
          "base_uri": "https://localhost:8080/"
        }
      },
      "source": [
        "model.summary()"
      ],
      "execution_count": 32,
      "outputs": [
        {
          "output_type": "stream",
          "text": [
            "Model: \"sequential\"\n",
            "_________________________________________________________________\n",
            "Layer (type)                 Output Shape              Param #   \n",
            "=================================================================\n",
            "dense (Dense)                (None, 16)                32        \n",
            "_________________________________________________________________\n",
            "dense_1 (Dense)              (None, 32)                544       \n",
            "_________________________________________________________________\n",
            "dense_2 (Dense)              (None, 2)                 66        \n",
            "=================================================================\n",
            "Total params: 642\n",
            "Trainable params: 642\n",
            "Non-trainable params: 0\n",
            "_________________________________________________________________\n"
          ],
          "name": "stdout"
        }
      ]
    },
    {
      "cell_type": "code",
      "metadata": {
        "id": "4-8rn-Fpbgg6"
      },
      "source": [
        "model.compile(optimizer=Adam(learning_rate=0.0001), loss='sparse_categorical_crossentropy', metrics=['accuracy'])"
      ],
      "execution_count": 33,
      "outputs": []
    },
    {
      "cell_type": "code",
      "metadata": {
        "id": "i2YT1obScm9g",
        "outputId": "365fa713-7997-4724-e3ad-a186e594dafc",
        "colab": {
          "base_uri": "https://localhost:8080/"
        }
      },
      "source": [
        "model.fit(x=scaled_samples , y = labels , shuffle = True , verbose =2 , batch_size = 10 , epochs = 100)"
      ],
      "execution_count": 38,
      "outputs": [
        {
          "output_type": "stream",
          "text": [
            "Epoch 1/100\n",
            "210/210 - 0s - loss: 0.2639 - accuracy: 0.9371\n",
            "Epoch 2/100\n",
            "210/210 - 0s - loss: 0.2633 - accuracy: 0.9357\n",
            "Epoch 3/100\n",
            "210/210 - 0s - loss: 0.2625 - accuracy: 0.9348\n",
            "Epoch 4/100\n",
            "210/210 - 0s - loss: 0.2622 - accuracy: 0.9395\n",
            "Epoch 5/100\n",
            "210/210 - 0s - loss: 0.2616 - accuracy: 0.9362\n",
            "Epoch 6/100\n",
            "210/210 - 0s - loss: 0.2611 - accuracy: 0.9338\n",
            "Epoch 7/100\n",
            "210/210 - 0s - loss: 0.2607 - accuracy: 0.9381\n",
            "Epoch 8/100\n",
            "210/210 - 0s - loss: 0.2602 - accuracy: 0.9390\n",
            "Epoch 9/100\n",
            "210/210 - 0s - loss: 0.2597 - accuracy: 0.9386\n",
            "Epoch 10/100\n",
            "210/210 - 0s - loss: 0.2594 - accuracy: 0.9352\n",
            "Epoch 11/100\n",
            "210/210 - 0s - loss: 0.2588 - accuracy: 0.9376\n",
            "Epoch 12/100\n",
            "210/210 - 0s - loss: 0.2584 - accuracy: 0.9386\n",
            "Epoch 13/100\n",
            "210/210 - 0s - loss: 0.2581 - accuracy: 0.9386\n",
            "Epoch 14/100\n",
            "210/210 - 0s - loss: 0.2577 - accuracy: 0.9400\n",
            "Epoch 15/100\n",
            "210/210 - 0s - loss: 0.2574 - accuracy: 0.9381\n",
            "Epoch 16/100\n",
            "210/210 - 0s - loss: 0.2571 - accuracy: 0.9381\n",
            "Epoch 17/100\n",
            "210/210 - 0s - loss: 0.2568 - accuracy: 0.9386\n",
            "Epoch 18/100\n",
            "210/210 - 0s - loss: 0.2565 - accuracy: 0.9405\n",
            "Epoch 19/100\n",
            "210/210 - 0s - loss: 0.2560 - accuracy: 0.9405\n",
            "Epoch 20/100\n",
            "210/210 - 0s - loss: 0.2559 - accuracy: 0.9405\n",
            "Epoch 21/100\n",
            "210/210 - 0s - loss: 0.2555 - accuracy: 0.9381\n",
            "Epoch 22/100\n",
            "210/210 - 0s - loss: 0.2552 - accuracy: 0.9405\n",
            "Epoch 23/100\n",
            "210/210 - 0s - loss: 0.2550 - accuracy: 0.9405\n",
            "Epoch 24/100\n",
            "210/210 - 0s - loss: 0.2547 - accuracy: 0.9400\n",
            "Epoch 25/100\n",
            "210/210 - 0s - loss: 0.2544 - accuracy: 0.9405\n",
            "Epoch 26/100\n",
            "210/210 - 0s - loss: 0.2542 - accuracy: 0.9395\n",
            "Epoch 27/100\n",
            "210/210 - 0s - loss: 0.2540 - accuracy: 0.9405\n",
            "Epoch 28/100\n",
            "210/210 - 0s - loss: 0.2537 - accuracy: 0.9405\n",
            "Epoch 29/100\n",
            "210/210 - 0s - loss: 0.2537 - accuracy: 0.9400\n",
            "Epoch 30/100\n",
            "210/210 - 0s - loss: 0.2533 - accuracy: 0.9386\n",
            "Epoch 31/100\n",
            "210/210 - 0s - loss: 0.2531 - accuracy: 0.9405\n",
            "Epoch 32/100\n",
            "210/210 - 0s - loss: 0.2529 - accuracy: 0.9405\n",
            "Epoch 33/100\n",
            "210/210 - 0s - loss: 0.2525 - accuracy: 0.9371\n",
            "Epoch 34/100\n",
            "210/210 - 0s - loss: 0.2527 - accuracy: 0.9405\n",
            "Epoch 35/100\n",
            "210/210 - 0s - loss: 0.2524 - accuracy: 0.9395\n",
            "Epoch 36/100\n",
            "210/210 - 0s - loss: 0.2522 - accuracy: 0.9400\n",
            "Epoch 37/100\n",
            "210/210 - 0s - loss: 0.2520 - accuracy: 0.9405\n",
            "Epoch 38/100\n",
            "210/210 - 0s - loss: 0.2518 - accuracy: 0.9395\n",
            "Epoch 39/100\n",
            "210/210 - 0s - loss: 0.2517 - accuracy: 0.9424\n",
            "Epoch 40/100\n",
            "210/210 - 0s - loss: 0.2514 - accuracy: 0.9405\n",
            "Epoch 41/100\n",
            "210/210 - 0s - loss: 0.2515 - accuracy: 0.9405\n",
            "Epoch 42/100\n",
            "210/210 - 0s - loss: 0.2512 - accuracy: 0.9405\n",
            "Epoch 43/100\n",
            "210/210 - 0s - loss: 0.2511 - accuracy: 0.9400\n",
            "Epoch 44/100\n",
            "210/210 - 0s - loss: 0.2508 - accuracy: 0.9405\n",
            "Epoch 45/100\n",
            "210/210 - 0s - loss: 0.2508 - accuracy: 0.9390\n",
            "Epoch 46/100\n",
            "210/210 - 0s - loss: 0.2505 - accuracy: 0.9400\n",
            "Epoch 47/100\n",
            "210/210 - 0s - loss: 0.2502 - accuracy: 0.9395\n",
            "Epoch 48/100\n",
            "210/210 - 0s - loss: 0.2503 - accuracy: 0.9424\n",
            "Epoch 49/100\n",
            "210/210 - 0s - loss: 0.2501 - accuracy: 0.9400\n",
            "Epoch 50/100\n",
            "210/210 - 0s - loss: 0.2499 - accuracy: 0.9400\n",
            "Epoch 51/100\n",
            "210/210 - 0s - loss: 0.2496 - accuracy: 0.9405\n",
            "Epoch 52/100\n",
            "210/210 - 0s - loss: 0.2496 - accuracy: 0.9400\n",
            "Epoch 53/100\n",
            "210/210 - 0s - loss: 0.2498 - accuracy: 0.9400\n",
            "Epoch 54/100\n",
            "210/210 - 0s - loss: 0.2493 - accuracy: 0.9395\n",
            "Epoch 55/100\n",
            "210/210 - 0s - loss: 0.2494 - accuracy: 0.9405\n",
            "Epoch 56/100\n",
            "210/210 - 0s - loss: 0.2492 - accuracy: 0.9405\n",
            "Epoch 57/100\n",
            "210/210 - 0s - loss: 0.2490 - accuracy: 0.9405\n",
            "Epoch 58/100\n",
            "210/210 - 0s - loss: 0.2488 - accuracy: 0.9405\n",
            "Epoch 59/100\n",
            "210/210 - 0s - loss: 0.2487 - accuracy: 0.9405\n",
            "Epoch 60/100\n",
            "210/210 - 0s - loss: 0.2487 - accuracy: 0.9395\n",
            "Epoch 61/100\n",
            "210/210 - 0s - loss: 0.2485 - accuracy: 0.9405\n",
            "Epoch 62/100\n",
            "210/210 - 0s - loss: 0.2484 - accuracy: 0.9405\n",
            "Epoch 63/100\n",
            "210/210 - 0s - loss: 0.2483 - accuracy: 0.9405\n",
            "Epoch 64/100\n",
            "210/210 - 0s - loss: 0.2482 - accuracy: 0.9405\n",
            "Epoch 65/100\n",
            "210/210 - 0s - loss: 0.2481 - accuracy: 0.9410\n",
            "Epoch 66/100\n",
            "210/210 - 0s - loss: 0.2479 - accuracy: 0.9405\n",
            "Epoch 67/100\n",
            "210/210 - 0s - loss: 0.2478 - accuracy: 0.9429\n",
            "Epoch 68/100\n",
            "210/210 - 0s - loss: 0.2477 - accuracy: 0.9405\n",
            "Epoch 69/100\n",
            "210/210 - 0s - loss: 0.2477 - accuracy: 0.9410\n",
            "Epoch 70/100\n",
            "210/210 - 0s - loss: 0.2475 - accuracy: 0.9405\n",
            "Epoch 71/100\n",
            "210/210 - 0s - loss: 0.2473 - accuracy: 0.9424\n",
            "Epoch 72/100\n",
            "210/210 - 0s - loss: 0.2473 - accuracy: 0.9405\n",
            "Epoch 73/100\n",
            "210/210 - 0s - loss: 0.2471 - accuracy: 0.9405\n",
            "Epoch 74/100\n",
            "210/210 - 0s - loss: 0.2469 - accuracy: 0.9405\n",
            "Epoch 75/100\n",
            "210/210 - 0s - loss: 0.2470 - accuracy: 0.9390\n",
            "Epoch 76/100\n",
            "210/210 - 0s - loss: 0.2467 - accuracy: 0.9405\n",
            "Epoch 77/100\n",
            "210/210 - 0s - loss: 0.2466 - accuracy: 0.9400\n",
            "Epoch 78/100\n",
            "210/210 - 0s - loss: 0.2466 - accuracy: 0.9390\n",
            "Epoch 79/100\n",
            "210/210 - 0s - loss: 0.2465 - accuracy: 0.9405\n",
            "Epoch 80/100\n",
            "210/210 - 0s - loss: 0.2463 - accuracy: 0.9414\n",
            "Epoch 81/100\n",
            "210/210 - 0s - loss: 0.2462 - accuracy: 0.9405\n",
            "Epoch 82/100\n",
            "210/210 - 0s - loss: 0.2460 - accuracy: 0.9390\n",
            "Epoch 83/100\n",
            "210/210 - 0s - loss: 0.2461 - accuracy: 0.9390\n",
            "Epoch 84/100\n",
            "210/210 - 0s - loss: 0.2458 - accuracy: 0.9390\n",
            "Epoch 85/100\n",
            "210/210 - 0s - loss: 0.2457 - accuracy: 0.9443\n",
            "Epoch 86/100\n",
            "210/210 - 0s - loss: 0.2458 - accuracy: 0.9405\n",
            "Epoch 87/100\n",
            "210/210 - 0s - loss: 0.2456 - accuracy: 0.9405\n",
            "Epoch 88/100\n",
            "210/210 - 0s - loss: 0.2454 - accuracy: 0.9405\n",
            "Epoch 89/100\n",
            "210/210 - 0s - loss: 0.2453 - accuracy: 0.9371\n",
            "Epoch 90/100\n",
            "210/210 - 0s - loss: 0.2452 - accuracy: 0.9424\n",
            "Epoch 91/100\n",
            "210/210 - 0s - loss: 0.2451 - accuracy: 0.9419\n",
            "Epoch 92/100\n",
            "210/210 - 0s - loss: 0.2451 - accuracy: 0.9400\n",
            "Epoch 93/100\n",
            "210/210 - 0s - loss: 0.2449 - accuracy: 0.9400\n",
            "Epoch 94/100\n",
            "210/210 - 0s - loss: 0.2447 - accuracy: 0.9405\n",
            "Epoch 95/100\n",
            "210/210 - 0s - loss: 0.2446 - accuracy: 0.9381\n",
            "Epoch 96/100\n",
            "210/210 - 0s - loss: 0.2447 - accuracy: 0.9395\n",
            "Epoch 97/100\n",
            "210/210 - 0s - loss: 0.2444 - accuracy: 0.9433\n",
            "Epoch 98/100\n",
            "210/210 - 0s - loss: 0.2445 - accuracy: 0.9390\n",
            "Epoch 99/100\n",
            "210/210 - 0s - loss: 0.2442 - accuracy: 0.9400\n",
            "Epoch 100/100\n",
            "210/210 - 0s - loss: 0.2443 - accuracy: 0.9405\n"
          ],
          "name": "stdout"
        },
        {
          "output_type": "execute_result",
          "data": {
            "text/plain": [
              "<tensorflow.python.keras.callbacks.History at 0x7feec97115c0>"
            ]
          },
          "metadata": {
            "tags": []
          },
          "execution_count": 38
        }
      ]
    }
  ]
}